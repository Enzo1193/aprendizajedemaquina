{
  "nbformat": 4,
  "nbformat_minor": 0,
  "metadata": {
    "colab": {
      "provenance": [],
      "authorship_tag": "ABX9TyOjkrJSJ0t/aujsJgc9EnRa",
      "include_colab_link": true
    },
    "kernelspec": {
      "name": "python3",
      "display_name": "Python 3"
    },
    "language_info": {
      "name": "python"
    }
  },
  "cells": [
    {
      "cell_type": "markdown",
      "metadata": {
        "id": "view-in-github",
        "colab_type": "text"
      },
      "source": [
        "<a href=\"https://colab.research.google.com/github/Enzo1193/aprendizajedemaquina/blob/main/Dashboard.ipynb\" target=\"_parent\"><img src=\"https://colab.research.google.com/assets/colab-badge.svg\" alt=\"Open In Colab\"/></a>"
      ]
    },
    {
      "cell_type": "code",
      "source": [
        "# 1. Instalar streamlit y pyngrok\n",
        "!pip install streamlit pyngrok -q\n",
        "\n",
        "# 2. Guardar el script del dashboard completo\n",
        "code = \"\"\"\n",
        "import streamlit as st\n",
        "import pandas as pd\n",
        "import matplotlib.pyplot as plt\n",
        "import seaborn as sns\n",
        "import numpy as np\n",
        "\n",
        "st.set_page_config(layout=\"wide\")\n",
        "st.title(\"Análisis del Precio de Viviendas - AmesHousing\")\n",
        "\n",
        "# Paso 1: Subir archivo\n",
        "uploaded_file = st.file_uploader(\"Sube tu archivo AmesHousing.csv\", type=[\"csv\"])\n",
        "\n",
        "if uploaded_file is not None:\n",
        "    df = pd.read_csv(uploaded_file)\n",
        "\n",
        "    st.subheader(\"Vista general del dataset\")\n",
        "    st.write(df.head())\n",
        "    st.write(\"Tamaño del dataset:\", df.shape)\n",
        "\n",
        "    # Valores nulos\n",
        "    missing = df.isnull().sum()\n",
        "    missing = missing[missing > 0].sort_values(ascending=False)\n",
        "\n",
        "    st.subheader(\"Columnas con valores nulos\")\n",
        "    st.write(missing)\n",
        "\n",
        "    # Histograma del precio de venta\n",
        "    st.subheader(\"Distribución de SalePrice\")\n",
        "    fig, ax = plt.subplots()\n",
        "    sns.histplot(df['SalePrice'], kde=True, ax=ax)\n",
        "    st.pyplot(fig)\n",
        "\n",
        "    # Correlación\n",
        "    st.subheader(\"Matriz de correlación (variables numéricas)\")\n",
        "    corr = df.corr(numeric_only=True)\n",
        "    fig, ax = plt.subplots(figsize=(12, 10))\n",
        "    sns.heatmap(corr, annot=False, cmap=\"coolwarm\", ax=ax)\n",
        "    st.pyplot(fig)\n",
        "\n",
        "    # Justificación de hiperparámetros\n",
        "    st.subheader(\"📌 Justificación de los Hiperparámetros, Rejillas y Score a Minimizar\")\n",
        "    st.markdown(\\\"\"\"\n",
        "En este trabajo se probaron múltiples algoritmos de regresión con el objetivo de predecir el precio de venta de viviendas (`SalePrice`).\n",
        "Para cada uno, se establecieron rangos de búsqueda de hiperparámetros basados en literatura, experiencia previa y consideraciones computacionales:\n",
        "\n",
        "- **`LinearRegression`**: No requiere ajuste de hiperparámetros.\n",
        "- **`Lasso`, `ElasticNet`**: `alpha`, `l1_ratio`, `max_iter`.\n",
        "- **`KernelRidge`**: `alpha`, `kernel`, `degree`.\n",
        "- **`SGDRegressor`**: `alpha`, `penalty`, `learning_rate`.\n",
        "- **`BayesianRidge`**: `alpha_1`, `alpha_2`, `lambda_1`, `lambda_2`.\n",
        "- **`GaussianProcessRegressor`**: `alpha`.\n",
        "- **`RandomForestRegressor`**: `n_estimators`, `max_depth`, `min_samples_split`, `min_samples_leaf`.\n",
        "- **`SVR`**: `C`, `epsilon`, `kernel`, `degree`.\n",
        "\n",
        "### Score a Minimizar\n",
        "\n",
        "Se utilizó principalmente el **`MAE (Mean Absolute Error)`**, robusto a valores atípicos y más interpretable en unidades monetarias.\n",
        "\\\"\"\")\n",
        "else:\n",
        "    st.warning(\"Por favor, sube un archivo CSV para comenzar el análisis.\")\n",
        "\"\"\"\n",
        "\n",
        "\n",
        "with open(\"streamlit_app.py\", \"w\") as f:\n",
        "    f.write(code)\n",
        "\n",
        "# 3. Ejecutar streamlit en segundo plano y abrir túnel ngrok\n",
        "import threading\n",
        "import os\n",
        "from pyngrok import ngrok\n",
        "\n",
        "# Desactivar CORS\n",
        "os.environ[\"STREAMLIT_SERVER_ENABLECORS\"] = \"false\"\n",
        "\n",
        "# Cerrar túneles activos previos para evitar error de límite\n",
        "for tunnel in ngrok.get_tunnels():\n",
        "    ngrok.disconnect(tunnel.public_url)\n",
        "\n",
        "# Crear túnel\n",
        "public_url = ngrok.connect(8501, \"http\")\n",
        "print(f\"Tu dashboard está disponible en: {public_url}\")\n",
        "\n",
        "# Ejecutar Streamlit en hilo separado\n",
        "def run():\n",
        "    os.system(\"streamlit run streamlit_app.py\")\n",
        "\n",
        "thread = threading.Thread(target=run)\n",
        "thread.start()\n"
      ],
      "metadata": {
        "colab": {
          "base_uri": "https://localhost:8080/"
        },
        "id": "_Oag3yvCoHDf",
        "outputId": "8a55dd30-dc82-4907-c8c0-cf07278fc722"
      },
      "execution_count": 1,
      "outputs": [
        {
          "output_type": "stream",
          "name": "stdout",
          "text": [
            "Tu dashboard está disponible en: NgrokTunnel: \"https://6871-34-80-69-54.ngrok-free.app\" -> \"http://localhost:8501\"\n"
          ]
        }
      ]
    }
  ]
}