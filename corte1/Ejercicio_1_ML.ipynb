{
  "nbformat": 4,
  "nbformat_minor": 0,
  "metadata": {
    "colab": {
      "provenance": [],
      "include_colab_link": true
    },
    "kernelspec": {
      "name": "python3",
      "display_name": "Python 3"
    },
    "language_info": {
      "name": "python"
    }
  },
  "cells": [
    {
      "cell_type": "markdown",
      "metadata": {
        "id": "view-in-github",
        "colab_type": "text"
      },
      "source": [
        "<a href=\"https://colab.research.google.com/github/Enzo1193/aprendizajedemaquina/blob/main/corte1/Ejercicio_1_ML.ipynb\" target=\"_parent\"><img src=\"https://colab.research.google.com/assets/colab-badge.svg\" alt=\"Open In Colab\"/></a>"
      ]
    },
    {
      "cell_type": "code",
      "execution_count": 2,
      "metadata": {
        "colab": {
          "base_uri": "https://localhost:8080/"
        },
        "id": "_CiDYzHCWDaj",
        "outputId": "e3ec7c24-77d9-47d0-98b5-42eb53b24443"
      },
      "outputs": [
        {
          "output_type": "stream",
          "name": "stdout",
          "text": [
            "Ingrese el número de manzanas en la caja roja: 6\n",
            "Ingrese el número de naranjas en la caja roja: 66\n",
            "Ingrese el número de manzanas en la caja azul: 6\n",
            "Ingrese el número de naranjas en la caja azul: 6\n",
            "P(f=a) = 0.3333\n",
            "P(f=o) = 0.6667\n",
            "P(f=a | B=r) = 0.0833\n",
            "P(f=o | B=b) = 0.5000\n",
            "P(f=a | B=b) = 0.5000\n",
            "P(f=o | B=r) = 0.9167\n",
            "P(B=r | f=o) = 0.5500\n",
            "P(B=b | f=o) = 0.4500\n",
            "P(B=r | f=a) = 0.1000\n",
            "P(B=b | f=a) = 0.9000\n"
          ]
        }
      ],
      "source": [
        "#PROMT: hola, vamos a realizar un codigo en python con la libreria numpy el cual resuelva el siguiente ejercicio, tenemos dos cajas una roja y una azul  tenemos que r es red y b es blue, a es apple, o es orange, B es Box y f es fruit. y tenemos que P(B=r)=0.4 y P(B=b) = 0.6. Ahora lo que quiero es calcular P(f=o), P(f=a), p(f=a|B=r), p(f=o|B=b), p(f=a|B=r), p(f=o|B=b), p(B=r|f=o), p(B=b|f=o), p(B=r|f=a), p(B=b|f=a)\n",
        "\n",
        "import numpy as np\n",
        "\n",
        "# Probabilidades iniciales\n",
        "P_B_r = 0.4  # Probabilidad de que la caja sea roja\n",
        "P_B_b = 0.6  # Probabilidad de que la caja sea azul\n",
        "\n",
        "# Ingresar número de frutas en cada caja\n",
        "num_apples_r = int(input(\"Ingrese el número de manzanas en la caja roja: \"))\n",
        "num_oranges_r = int(input(\"Ingrese el número de naranjas en la caja roja: \"))\n",
        "num_apples_b = int(input(\"Ingrese el número de manzanas en la caja azul: \"))\n",
        "num_oranges_b = int(input(\"Ingrese el número de naranjas en la caja azul: \"))\n",
        "\n",
        "# Calcular probabilidades condicionales de las frutas en cada caja\n",
        "total_fruits_r = num_apples_r + num_oranges_r\n",
        "total_fruits_b = num_apples_b + num_oranges_b\n",
        "\n",
        "P_f_a_given_B_r = num_apples_r / total_fruits_r if total_fruits_r > 0 else 0\n",
        "P_f_o_given_B_r = num_oranges_r / total_fruits_r if total_fruits_r > 0 else 0\n",
        "P_f_a_given_B_b = num_apples_b / total_fruits_b if total_fruits_b > 0 else 0\n",
        "P_f_o_given_B_b = num_oranges_b / total_fruits_b if total_fruits_b > 0 else 0\n",
        "\n",
        "# Regla de la probabilidad total\n",
        "P_f_a = P_f_a_given_B_r * P_B_r + P_f_a_given_B_b * P_B_b\n",
        "P_f_o = P_f_o_given_B_r * P_B_r + P_f_o_given_B_b * P_B_b\n",
        "\n",
        "# Teorema de Bayes\n",
        "P_B_r_given_f_o = (P_f_o_given_B_r * P_B_r) / P_f_o if P_f_o > 0 else 0\n",
        "P_B_b_given_f_o = (P_f_o_given_B_b * P_B_b) / P_f_o if P_f_o > 0 else 0\n",
        "P_B_r_given_f_a = (P_f_a_given_B_r * P_B_r) / P_f_a if P_f_a > 0 else 0\n",
        "P_B_b_given_f_a = (P_f_a_given_B_b * P_B_b) / P_f_a if P_f_a > 0 else 0\n",
        "\n",
        "# Resultados\n",
        "print(f\"P(f=a) = {P_f_a:.4f}\")\n",
        "print(f\"P(f=o) = {P_f_o:.4f}\")\n",
        "print(f\"P(f=a | B=r) = {P_f_a_given_B_r:.4f}\")\n",
        "print(f\"P(f=o | B=b) = {P_f_o_given_B_b:.4f}\")\n",
        "print(f\"P(f=a | B=b) = {P_f_a_given_B_b:.4f}\")\n",
        "print(f\"P(f=o | B=r) = {P_f_o_given_B_r:.4f}\")\n",
        "print(f\"P(B=r | f=o) = {P_B_r_given_f_o:.4f}\")\n",
        "print(f\"P(B=b | f=o) = {P_B_b_given_f_o:.4f}\")\n",
        "print(f\"P(B=r | f=a) = {P_B_r_given_f_a:.4f}\")\n",
        "print(f\"P(B=b | f=a) = {P_B_b_given_f_a:.4f}\")\n"
      ]
    },
    {
      "cell_type": "code",
      "source": [
        "# Probabilidades iniciales\n",
        "P_B_r = 0.4  # Probabilidad de que la caja sea roja\n",
        "P_B_b = 0.6  # Probabilidad de que la caja sea azul\n",
        "\n",
        "# Ingresar número de frutas en cada caja\n",
        "num_apples_r = int(input(\"Ingrese el número de manzanas en la caja roja: \"))\n",
        "num_oranges_r = int(input(\"Ingrese el número de naranjas en la caja roja: \"))\n",
        "num_coco_r = int(input(\"Ingrese el número de cocos en la caja roja: \"))\n",
        "num_apples_b = int(input(\"Ingrese el número de manzanas en la caja azul: \"))\n",
        "num_oranges_b = int(input(\"Ingrese el número de naranjas en la caja azul: \"))\n",
        "num_coco_b = int(input(\"Ingrese el número de cocos en la caja azul: \"))\n",
        "\n",
        "# Calcular probabilidades condicionales de las frutas en cada caja\n",
        "total_fruits_r = num_apples_r + num_oranges_r + num_coco_r\n",
        "total_fruits_b = num_apples_b + num_oranges_b + num_coco_b\n",
        "\n",
        "P_f_a_given_B_r = num_apples_r / total_fruits_r if total_fruits_r > 0 else 0\n",
        "P_f_o_given_B_r = num_oranges_r / total_fruits_r if total_fruits_r > 0 else 0\n",
        "P_f_c_given_B_r = num_coco_r / total_fruits_r if total_fruits_r > 0 else 0\n",
        "P_f_a_given_B_b = num_apples_b / total_fruits_b if total_fruits_b > 0 else 0\n",
        "P_f_o_given_B_b = num_oranges_b / total_fruits_b if total_fruits_b > 0 else 0\n",
        "P_f_c_given_B_b = num_coco_b / total_fruits_b if total_fruits_b > 0 else 0\n",
        "\n",
        "# Regla de la probabilidad total\n",
        "P_f_a = P_f_a_given_B_r * P_B_r + P_f_a_given_B_b * P_B_b\n",
        "P_f_o = P_f_o_given_B_r * P_B_r + P_f_o_given_B_b * P_B_b\n",
        "P_f_c = P_f_c_given_B_r * P_B_r + P_f_c_given_B_b * P_B_b\n",
        "\n",
        "# Teorema de Bayes\n",
        "P_B_r_given_f_o = (P_f_o_given_B_r * P_B_r) / P_f_o if P_f_o > 0 else 0\n",
        "P_B_b_given_f_o = (P_f_o_given_B_b * P_B_b) / P_f_o if P_f_o > 0 else 0\n",
        "P_B_r_given_f_a = (P_f_a_given_B_r * P_B_r) / P_f_a if P_f_a > 0 else 0\n",
        "P_B_b_given_f_a = (P_f_a_given_B_b * P_B_b) / P_f_a if P_f_a > 0 else 0\n",
        "P_B_r_given_f_c = (P_f_c_given_B_r * P_B_r) / P_f_c if P_f_c > 0 else 0\n",
        "P_B_b_given_f_c = (P_f_c_given_B_b * P_B_b) / P_f_c if P_f_c > 0 else 0\n",
        "\n",
        "# Resultados\n",
        "print(f\"P(f=a) = {P_f_a:.4f}\")\n",
        "print(f\"P(f=o) = {P_f_o:.4f}\")\n",
        "print(f\"P(f=c) = {P_f_c:.4f}\")\n",
        "print(f\"P(f=a | B=r) = {P_f_a_given_B_r:.4f}\")\n",
        "print(f\"P(f=o | B=r) = {P_f_o_given_B_r:.4f}\")\n",
        "print(f\"P(f=c | B=r) = {P_f_c_given_B_r:.4f}\")\n",
        "print(f\"P(f=a | B=b) = {P_f_a_given_B_b:.4f}\")\n",
        "print(f\"P(f=o | B=b) = {P_f_o_given_B_b:.4f}\")\n",
        "print(f\"P(f=c | B=b) = {P_f_c_given_B_b:.4f}\")\n",
        "print(f\"P(B=r | f=o) = {P_B_r_given_f_o:.4f}\")\n",
        "print(f\"P(B=b | f=o) = {P_B_b_given_f_o:.4f}\")\n",
        "print(f\"P(B=r | f=a) = {P_B_r_given_f_a:.4f}\")\n",
        "print(f\"P(B=b | f=a) = {P_B_b_given_f_a:.4f}\")\n",
        "print(f\"P(B=r | f=c) = {P_B_r_given_f_c:.4f}\")\n",
        "print(f\"P(B=b | f=c) = {P_B_b_given_f_c:.4f}\")\n"
      ],
      "metadata": {
        "colab": {
          "base_uri": "https://localhost:8080/"
        },
        "id": "ZyeOA_QcZPkr",
        "outputId": "8a28ecc3-83af-4294-cf2d-9890ad4292c8"
      },
      "execution_count": 3,
      "outputs": [
        {
          "output_type": "stream",
          "name": "stdout",
          "text": [
            "Ingrese el número de manzanas en la caja roja: 4\n",
            "Ingrese el número de naranjas en la caja roja: 5\n",
            "Ingrese el número de cocos en la caja roja: 8\n",
            "Ingrese el número de manzanas en la caja azul: 4\n",
            "Ingrese el número de naranjas en la caja azul: 5\n",
            "Ingrese el número de cocos en la caja azul: 8\n",
            "P(f=a) = 0.2353\n",
            "P(f=o) = 0.2941\n",
            "P(f=c) = 0.4706\n",
            "P(f=a | B=r) = 0.2353\n",
            "P(f=o | B=r) = 0.2941\n",
            "P(f=c | B=r) = 0.4706\n",
            "P(f=a | B=b) = 0.2353\n",
            "P(f=o | B=b) = 0.2941\n",
            "P(f=c | B=b) = 0.4706\n",
            "P(B=r | f=o) = 0.4000\n",
            "P(B=b | f=o) = 0.6000\n",
            "P(B=r | f=a) = 0.4000\n",
            "P(B=b | f=a) = 0.6000\n",
            "P(B=r | f=c) = 0.4000\n",
            "P(B=b | f=c) = 0.6000\n"
          ]
        }
      ]
    }
  ]
}